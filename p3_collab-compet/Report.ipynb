{
 "cells": [
  {
   "cell_type": "markdown",
   "metadata": {},
   "source": [
    "# Collaboration and Competition\n",
    "\n",
    "---\n",
    "\n",
    "In this environment, two agents control rackets collabortate and compete to play tennis. If an agent hits the ball over the net, it receives a reward of +0.1. If an agent lets a ball hit the ground or hits the ball out of bounds, it receives a reward of -0.01. Thus, the goal of each agent is to keep the ball in play, as such playing as long as possible in an episode. \n",
    "\n",
    "The observation space consists of 8 variables corresponding to the position and velocity of the ball and racket. Each agent receives its own, local observation. Two continuous actions are available, corresponding to movement toward (or away from) the net, and jumping.\n",
    "\n",
    "The task is episodic, and in order to solve the environment, both agents must get an average score of +0.5 (over 100 consecutive episodes, after taking the maximum over both agents)."
   ]
  },
  {
   "cell_type": "markdown",
   "metadata": {},
   "source": [
    "### Model and Architecture"
   ]
  },
  {
   "cell_type": "markdown",
   "metadata": {},
   "source": [
    "DDPG algorithm is adopted for this projecrt as it is found to work very well with continuous action space and state space. DDPG is a model-free policy-based reinforcement learning algorithm where agent learns by observing state spaces with no prior knowledge of environment dynamics. Learning improves by using policy gradient optimization algorithm. Replay memory is adopted to store and recall experience tuples. Target network is updated using soft updates with tau set at 1e-3.\n",
    "\n",
    "DDPG is one of the known Actor-Critic models. Actor is policy-based where learning is expected to be inefficient (taking a while to converge) with high variance. Whereas Critic is value-based and is expected to be high bias. The collaboration of Actor and Critic compliment each other while overcoming their shortcomings. \n",
    "\n",
    "The Actor model is a neural network with 3 fully connected layers with features 24 > 400 > 300 > 2  \n",
    "Tanh is used in the final layer that maps states to actions. Batch normalization is used for mini batch training. \n",
    "The Critic model is similar to Actor model except the final layer maps states and actions to Q-values.\n",
    "\n",
    "#### The hyperparameters of the model are set as: \n",
    "\n",
    "1. Replay buffer size: BUFFER_SIZE = int(1e6)    \n",
    "2. Minibatch size: BATCH_SIZE = 128 \n",
    "3. Discount factor: GAMMA = 0.99\n",
    "6. Soft update of target parameters: TAU = 1e-3  \n",
    "4. Learning rate of the actor: LR_ACTOR = 5e-5         \n",
    "5. Learning rate of the critic: LR_CRITIC = 6e-5   \n",
    "7. L2 weight decay: WEIGHT_DECAY = 0.0001       "
   ]
  },
  {
   "cell_type": "markdown",
   "metadata": {},
   "source": [
    "### 1. Start the Environment\n",
    "\n",
    "We begin by importing the necessary packages.  If the code cell below returns an error, please revisit the project instructions to double-check that you have installed [Unity ML-Agents](https://github.com/Unity-Technologies/ml-agents/blob/master/docs/Installation.md) and [NumPy](http://www.numpy.org/)."
   ]
  },
  {
   "cell_type": "code",
   "execution_count": 1,
   "metadata": {},
   "outputs": [],
   "source": [
    "from unityagents import UnityEnvironment\n",
    "import numpy as np\n",
    "import time\n",
    "from datetime import datetime, timedelta\n",
    "from collections import deque\n",
    "import matplotlib.pyplot as plt\n",
    "%matplotlib inline\n",
    "\n",
    "import torch\n",
    "from ddpg_agent import Agent"
   ]
  },
  {
   "cell_type": "markdown",
   "metadata": {},
   "source": [
    "#### Define global parameters"
   ]
  },
  {
   "cell_type": "code",
   "execution_count": 2,
   "metadata": {},
   "outputs": [],
   "source": [
    "STORE_MODELS = True # False # True - Turn it on when you are ready to do the calibration training"
   ]
  },
  {
   "cell_type": "markdown",
   "metadata": {},
   "source": [
    "Next, we will start the environment!  **_Before running the code cell below_**, change the `file_name` parameter to match the location of the Unity environment that you downloaded.\n",
    "\n",
    "- **Mac**: `\"path/to/Tennis.app\"`\n",
    "- **Windows** (x86): `\"path/to/Tennis_Windows_x86/Tennis.exe\"`\n",
    "- **Windows** (x86_64): `\"path/to/Tennis_Windows_x86_64/Tennis.exe\"`\n",
    "- **Linux** (x86): `\"path/to/Tennis_Linux/Tennis.x86\"`\n",
    "- **Linux** (x86_64): `\"path/to/Tennis_Linux/Tennis.x86_64\"`\n",
    "- **Linux** (x86, headless): `\"path/to/Tennis_Linux_NoVis/Tennis.x86\"`\n",
    "- **Linux** (x86_64, headless): `\"path/to/Tennis_Linux_NoVis/Tennis.x86_64\"`\n",
    "\n",
    "For instance, if you are using a Mac, then you downloaded `Tennis.app`.  If this file is in the same folder as the notebook, then the line below should appear as follows:\n",
    "```\n",
    "env = UnityEnvironment(file_name=\"Tennis.app\")\n",
    "```"
   ]
  },
  {
   "cell_type": "code",
   "execution_count": 3,
   "metadata": {},
   "outputs": [
    {
     "name": "stderr",
     "output_type": "stream",
     "text": [
      "INFO:unityagents:\n",
      "'Academy' started successfully!\n",
      "Unity Academy name: Academy\n",
      "        Number of Brains: 1\n",
      "        Number of External Brains : 1\n",
      "        Lesson number : 0\n",
      "        Reset Parameters :\n",
      "\t\t\n",
      "Unity brain name: TennisBrain\n",
      "        Number of Visual Observations (per agent): 0\n",
      "        Vector Observation space type: continuous\n",
      "        Vector Observation space size (per agent): 8\n",
      "        Number of stacked Vector Observation: 3\n",
      "        Vector Action space type: continuous\n",
      "        Vector Action space size (per agent): 2\n",
      "        Vector Action descriptions: , \n"
     ]
    }
   ],
   "source": [
    "env = UnityEnvironment(file_name=\"./Tennis_Windows_x86_64/Tennis.exe\")"
   ]
  },
  {
   "cell_type": "markdown",
   "metadata": {},
   "source": [
    "Environments contain **_brains_** which are responsible for deciding the actions of their associated agents. Here we check for the first brain available, and set it as the default brain we will be controlling from Python."
   ]
  },
  {
   "cell_type": "code",
   "execution_count": 4,
   "metadata": {},
   "outputs": [],
   "source": [
    "# get the default brain\n",
    "brain_name = env.brain_names[0]\n",
    "brain = env.brains[brain_name]"
   ]
  },
  {
   "cell_type": "markdown",
   "metadata": {},
   "source": [
    "### 2. Examine the State and Action Spaces\n",
    "\n",
    "In this environment, two agents control rackets to bounce a ball over a net. If an agent hits the ball over the net, it receives a reward of +0.1.  If an agent lets a ball hit the ground or hits the ball out of bounds, it receives a reward of -0.01.  Thus, the goal of each agent is to keep the ball in play.\n",
    "\n",
    "The observation space consists of 8 variables corresponding to the position and velocity of the ball and racket. Two continuous actions are available, corresponding to movement toward (or away from) the net, and jumping. \n",
    "\n",
    "Run the code cell below to print some information about the environment."
   ]
  },
  {
   "cell_type": "code",
   "execution_count": 5,
   "metadata": {},
   "outputs": [
    {
     "name": "stdout",
     "output_type": "stream",
     "text": [
      "Number of agents: 2\n",
      "Size of each action: 2\n",
      "There are 2 agents. Each observes a state with length: 24\n",
      "The state for the first agent looks like: [ 0.          0.          0.          0.          0.          0.\n",
      "  0.          0.          0.          0.          0.          0.\n",
      "  0.          0.          0.          0.         -6.65278625 -1.5\n",
      " -0.          0.          6.83172083  6.         -0.          0.        ]\n",
      "The state for the second agent looks like: [ 0.          0.          0.          0.          0.          0.\n",
      "  0.          0.          0.          0.          0.          0.\n",
      "  0.          0.          0.          0.         -6.4669857  -1.5\n",
      "  0.          0.         -6.83172083  6.          0.          0.        ]\n"
     ]
    }
   ],
   "source": [
    "# reset the environment\n",
    "env_info = env.reset(train_mode=True)[brain_name]\n",
    "\n",
    "# number of agents \n",
    "num_agents = len(env_info.agents)\n",
    "print('Number of agents:', num_agents)\n",
    "\n",
    "# size of each action\n",
    "action_size = brain.vector_action_space_size\n",
    "print('Size of each action:', action_size)\n",
    "\n",
    "# examine the state space \n",
    "states = env_info.vector_observations\n",
    "state_size = states.shape[1]\n",
    "print('There are {} agents. Each observes a state with length: {}'.format(states.shape[0], state_size))\n",
    "print('The state for the first agent looks like:', states[0])\n",
    "print('The state for the second agent looks like:', states[1])"
   ]
  },
  {
   "cell_type": "markdown",
   "metadata": {},
   "source": [
    "### 3. Take Random Actions in the Environment\n",
    "\n",
    "In the next code cell, you will learn how to use the Python API to control the agents and receive feedback from the environment.\n",
    "\n",
    "Once this cell is executed, you will watch the agents' performance, if they select actions at random with each time step.  A window should pop up that allows you to observe the agents.\n",
    "\n",
    "Of course, as part of the project, you'll have to change the code so that the agents are able to use their experiences to gradually choose better actions when interacting with the environment!"
   ]
  },
  {
   "cell_type": "code",
   "execution_count": 6,
   "metadata": {},
   "outputs": [
    {
     "name": "stdout",
     "output_type": "stream",
     "text": [
      "Score (max over agents) from episode 1: 0.0\n",
      "Score (max over agents) from episode 2: 0.0\n",
      "Score (max over agents) from episode 3: 0.09000000171363354\n",
      "Score (max over agents) from episode 4: 0.10000000149011612\n",
      "Score (max over agents) from episode 5: 0.0\n"
     ]
    }
   ],
   "source": [
    "for i in range(1, 6):                                      # play game for 5 episodes\n",
    "    env_info = env.reset(train_mode=False)[brain_name]     # reset the environment    \n",
    "    states = env_info.vector_observations                  # get the current state (for each agent)\n",
    "    scores = np.zeros(num_agents)                          # initialize the score (for each agent)\n",
    "    while True:\n",
    "        actions = np.random.randn(num_agents, action_size) # select an action (for each agent)\n",
    "        actions = np.clip(actions, -1, 1)                  # all actions between -1 and 1\n",
    "        env_info = env.step(actions)[brain_name]           # send all actions to tne environment\n",
    "        next_states = env_info.vector_observations         # get next state (for each agent)\n",
    "        rewards = env_info.rewards                         # get reward (for each agent)\n",
    "        dones = env_info.local_done                        # see if episode finished\n",
    "        scores += env_info.rewards                         # update the score (for each agent)\n",
    "        states = next_states                               # roll over states to next time step\n",
    "        if np.any(dones):                                  # exit loop if episode finished\n",
    "            break\n",
    "    print('Score (max over agents) from episode {}: {}'.format(i, np.max(scores)))"
   ]
  },
  {
   "cell_type": "markdown",
   "metadata": {},
   "source": [
    "When finished, you can close the environment."
   ]
  },
  {
   "cell_type": "markdown",
   "metadata": {},
   "source": [
    "### 4. It's Your Turn!\n",
    "\n",
    "Now it's your turn to train your own agent to solve the environment!  When training the environment, set `train_mode=True`, so that the line for resetting the environment looks like the following:\n",
    "```python\n",
    "env_info = env.reset(train_mode=True)[brain_name]\n",
    "```"
   ]
  },
  {
   "cell_type": "code",
   "execution_count": 6,
   "metadata": {},
   "outputs": [
    {
     "name": "stdout",
     "output_type": "stream",
     "text": [
      "Actor(\n",
      "  (fc1): Linear(in_features=24, out_features=400, bias=True)\n",
      "  (fc2): Linear(in_features=400, out_features=300, bias=True)\n",
      "  (fc3): Linear(in_features=300, out_features=2, bias=True)\n",
      ")\n",
      "Critic(\n",
      "  (fcs1): Linear(in_features=24, out_features=400, bias=True)\n",
      "  (fc2): Linear(in_features=402, out_features=300, bias=True)\n",
      "  (fc3): Linear(in_features=300, out_features=1, bias=True)\n",
      ")\n"
     ]
    }
   ],
   "source": [
    "agents = Agent(state_size=state_size, \n",
    "              action_size=action_size,\n",
    "              num_agents=num_agents, \n",
    "              random_seed=0)\n",
    "print(agents.actor_local)\n",
    "print(agents.critic_local)"
   ]
  },
  {
   "cell_type": "code",
   "execution_count": 7,
   "metadata": {},
   "outputs": [],
   "source": [
    "def ddpg(n_episodes=5000, max_t=1000):\n",
    "    scores_deque = deque(maxlen=100)\n",
    "    scores = []\n",
    "    avg_score_list = []\n",
    "    for i_episode in range(1, n_episodes+1):\n",
    "        env_info = env.reset(train_mode=True)[brain_name]\n",
    "        state = env_info.vector_observations\n",
    "        agents.reset()\n",
    "        score = np.zeros(num_agents)\n",
    "        for t in range(max_t):\n",
    "            action = agents.act(state)\n",
    "            env_info = env.step(action)[brain_name]\n",
    "            next_state = env_info.vector_observations\n",
    "            rewards = env_info.rewards\n",
    "            dones = env_info.local_done\n",
    "            agents.step(state, action, rewards, next_state, dones)\n",
    "            state = next_state\n",
    "            score += rewards\n",
    "            if np.any(dones):\n",
    "                break \n",
    "        scores_deque.append(np.mean(score))\n",
    "        scores.append(np.mean(score))\n",
    "        avg_score = np.mean(scores_deque)\n",
    "        avg_score_list.append(avg_score)\n",
    "        print('\\rEpisode {}\\tAverage Score: {:.2f}\\tScore: {:.3f}'.\\\n",
    "              format(i_episode, avg_score, np.mean(score)), end=\"\")      \n",
    "        if i_episode % 50 == 0 or avg_score > 0.5:\n",
    "            print('\\rEpisode {}\\tAverage Score: {:.2f}'.format(i_episode, avg_score))\n",
    "            torch.save(agents.actor_local.state_dict(), 'checkpoint_actor.pth')\n",
    "            torch.save(agents.critic_local.state_dict(), 'checkpoint_critic.pth') \n",
    "            if avg_score > 0.5:\n",
    "                print('\\nEnvironment solved in {:d} episodes!'.format(i_episode))\n",
    "                break\n",
    "        \n",
    "    return scores, avg_score_list"
   ]
  },
  {
   "cell_type": "markdown",
   "metadata": {},
   "source": [
    "#### Batch size = 256  <br/> Learning rate of the actor = 6e-5  <br/> Learning rate of the critic = 5e-5        "
   ]
  },
  {
   "cell_type": "code",
   "execution_count": 8,
   "metadata": {
    "scrolled": false
   },
   "outputs": [
    {
     "name": "stderr",
     "output_type": "stream",
     "text": [
      "C:\\Users\\jieww\\Anaconda3\\envs\\drlnd\\lib\\site-packages\\torch\\nn\\functional.py:995: UserWarning: nn.functional.tanh is deprecated. Use torch.tanh instead.\n",
      "  warnings.warn(\"nn.functional.tanh is deprecated. Use torch.tanh instead.\")\n"
     ]
    },
    {
     "name": "stdout",
     "output_type": "stream",
     "text": [
      "Episode 50\tAverage Score: -0.00\tScore: -0.005\n",
      "Episode 100\tAverage Score: -0.00\tScore: -0.005\n",
      "Episode 150\tAverage Score: -0.00\tScore: -0.005\n",
      "Episode 200\tAverage Score: -0.00\tScore: -0.005\n",
      "Episode 250\tAverage Score: -0.00\tScore: -0.005\n",
      "Episode 300\tAverage Score: -0.00\tScore: -0.005\n",
      "Episode 350\tAverage Score: -0.00\tScore: -0.005\n",
      "Episode 400\tAverage Score: -0.00\tScore: -0.005\n",
      "Episode 450\tAverage Score: -0.00\tScore: -0.005\n",
      "Episode 500\tAverage Score: -0.00\tScore: -0.005\n",
      "Episode 550\tAverage Score: -0.00\tScore: -0.005\n",
      "Episode 600\tAverage Score: -0.00\tScore: -0.005\n",
      "Episode 650\tAverage Score: -0.00\tScore: -0.005\n",
      "Episode 700\tAverage Score: -0.00\tScore: -0.005\n",
      "Episode 750\tAverage Score: -0.00\tScore: 0.1455\n",
      "Episode 800\tAverage Score: 0.01\tScore: -0.005\n",
      "Episode 850\tAverage Score: 0.01\tScore: -0.005\n",
      "Episode 900\tAverage Score: -0.00\tScore: -0.005\n",
      "Episode 950\tAverage Score: -0.00\tScore: -0.005\n",
      "Episode 1000\tAverage Score: -0.00\tScore: -0.005\n",
      "Episode 1050\tAverage Score: -0.00\tScore: -0.005\n",
      "Episode 1100\tAverage Score: -0.00\tScore: -0.005\n",
      "Episode 1150\tAverage Score: -0.00\tScore: -0.005\n",
      "Episode 1200\tAverage Score: -0.00\tScore: -0.005\n",
      "Episode 1250\tAverage Score: 0.01\tScore: -0.0055\n",
      "Episode 1300\tAverage Score: 0.01\tScore: -0.005\n",
      "Episode 1350\tAverage Score: 0.00\tScore: -0.005\n",
      "Episode 1400\tAverage Score: 0.00\tScore: -0.005\n",
      "Episode 1450\tAverage Score: 0.01\tScore: -0.005\n",
      "Episode 1500\tAverage Score: 0.01\tScore: 0.0455\n",
      "Episode 1550\tAverage Score: 0.02\tScore: 0.0955\n",
      "Episode 1600\tAverage Score: 0.05\tScore: 0.0455\n",
      "Episode 1650\tAverage Score: 0.07\tScore: 0.0455\n",
      "Episode 1700\tAverage Score: 0.07\tScore: 0.0455\n",
      "Episode 1750\tAverage Score: 0.07\tScore: 0.0455\n",
      "Episode 1800\tAverage Score: 0.09\tScore: 0.0455\n",
      "Episode 1850\tAverage Score: 0.10\tScore: 0.3455\n",
      "Episode 1900\tAverage Score: 0.11\tScore: 0.0955\n",
      "Episode 1950\tAverage Score: 0.18\tScore: 0.1455\n",
      "Episode 2000\tAverage Score: 0.24\tScore: 0.5455\n",
      "Episode 2050\tAverage Score: 0.26\tScore: 0.2955\n",
      "Episode 2100\tAverage Score: 0.33\tScore: 1.0455\n",
      "Episode 2150\tAverage Score: 0.45\tScore: 1.4955\n",
      "Episode 2174\tAverage Score: 0.51\tScore: 0.8455\n",
      "\n",
      "Environment solved in 2174 episodes!\n"
     ]
    }
   ],
   "source": [
    "scores, avg_score_list = ddpg()"
   ]
  },
  {
   "cell_type": "code",
   "execution_count": 9,
   "metadata": {},
   "outputs": [
    {
     "data": {
      "image/png": "[encoded data removed]",
      "text/plain": [
       "<Figure size 432x288 with 1 Axes>"
      ]
     },
     "metadata": {
      "needs_background": "light"
     },
     "output_type": "display_data"
    }
   ],
   "source": [
    "fig = plt.figure()\n",
    "ax = fig.add_subplot(111)\n",
    "plt.plot(np.arange(1, len(scores)+1), scores)\n",
    "plt.plot(np.arange(1, len(avg_score_list)+1), avg_score_list)\n",
    "plt.ylabel('Score')\n",
    "plt.xlabel('Episode #')\n",
    "plt.show()"
   ]
  },
  {
   "cell_type": "markdown",
   "metadata": {},
   "source": [
    "#### Batch size = 128  <br/> Learning rate of the actor = 6e-5  <br/> Learning rate of the critic = 5e-5        "
   ]
  },
  {
   "cell_type": "code",
   "execution_count": 8,
   "metadata": {
    "scrolled": false
   },
   "outputs": [
    {
     "name": "stderr",
     "output_type": "stream",
     "text": [
      "C:\\Users\\jieww\\Anaconda3\\envs\\drlnd\\lib\\site-packages\\torch\\nn\\functional.py:995: UserWarning: nn.functional.tanh is deprecated. Use torch.tanh instead.\n",
      "  warnings.warn(\"nn.functional.tanh is deprecated. Use torch.tanh instead.\")\n"
     ]
    },
    {
     "name": "stdout",
     "output_type": "stream",
     "text": [
      "Episode 50\tAverage Score: -0.00\tScore: -0.005\n",
      "Episode 100\tAverage Score: -0.00\tScore: -0.005\n",
      "Episode 150\tAverage Score: -0.00\tScore: -0.005\n",
      "Episode 200\tAverage Score: -0.00\tScore: -0.005\n",
      "Episode 250\tAverage Score: -0.00\tScore: -0.005\n",
      "Episode 300\tAverage Score: -0.00\tScore: -0.005\n",
      "Episode 350\tAverage Score: -0.00\tScore: -0.005\n",
      "Episode 400\tAverage Score: -0.00\tScore: -0.005\n",
      "Episode 450\tAverage Score: -0.00\tScore: -0.005\n",
      "Episode 500\tAverage Score: -0.00\tScore: -0.005\n",
      "Episode 550\tAverage Score: -0.00\tScore: -0.005\n",
      "Episode 600\tAverage Score: -0.00\tScore: -0.005\n",
      "Episode 650\tAverage Score: -0.00\tScore: -0.005\n",
      "Episode 700\tAverage Score: -0.00\tScore: -0.005\n",
      "Episode 750\tAverage Score: -0.00\tScore: -0.005\n",
      "Episode 800\tAverage Score: -0.00\tScore: -0.005\n",
      "Episode 850\tAverage Score: -0.00\tScore: -0.005\n",
      "Episode 900\tAverage Score: -0.00\tScore: -0.005\n",
      "Episode 950\tAverage Score: 0.01\tScore: -0.0055\n",
      "Episode 1000\tAverage Score: 0.01\tScore: -0.005\n",
      "Episode 1050\tAverage Score: 0.02\tScore: -0.005\n",
      "Episode 1100\tAverage Score: 0.03\tScore: 0.0455\n",
      "Episode 1150\tAverage Score: 0.02\tScore: 0.0455\n",
      "Episode 1200\tAverage Score: 0.02\tScore: 0.0455\n",
      "Episode 1250\tAverage Score: 0.03\tScore: 0.0455\n",
      "Episode 1300\tAverage Score: 0.03\tScore: 0.0455\n",
      "Episode 1350\tAverage Score: 0.09\tScore: -0.005\n",
      "Episode 1400\tAverage Score: 0.08\tScore: -0.005\n",
      "Episode 1450\tAverage Score: 0.02\tScore: -0.005\n",
      "Episode 1500\tAverage Score: -0.00\tScore: -0.005\n",
      "Episode 1550\tAverage Score: -0.00\tScore: -0.005\n",
      "Episode 1600\tAverage Score: -0.00\tScore: -0.005\n",
      "Episode 1650\tAverage Score: -0.00\tScore: -0.005\n",
      "Episode 1700\tAverage Score: -0.00\tScore: -0.005\n",
      "Episode 1750\tAverage Score: -0.00\tScore: -0.005\n",
      "Episode 1800\tAverage Score: -0.00\tScore: -0.005\n",
      "Episode 1850\tAverage Score: -0.00\tScore: 0.0955\n",
      "Episode 1900\tAverage Score: 0.05\tScore: 0.1955\n",
      "Episode 1950\tAverage Score: 0.16\tScore: 0.0455\n",
      "Episode 2000\tAverage Score: 0.19\tScore: 0.2955\n",
      "Episode 2050\tAverage Score: 0.17\tScore: 0.1455\n",
      "Episode 2100\tAverage Score: 0.15\tScore: 0.0455\n",
      "Episode 2150\tAverage Score: 0.27\tScore: 1.3455\n",
      "Episode 2200\tAverage Score: 0.46\tScore: 0.4955\n",
      "Episode 2215\tAverage Score: 0.50\tScore: 0.795\n",
      "\n",
      "Environment solved in 2215 episodes!\n"
     ]
    }
   ],
   "source": [
    "scores, avg_score_list = ddpg()"
   ]
  },
  {
   "cell_type": "code",
   "execution_count": 9,
   "metadata": {},
   "outputs": [
    {
     "data": {
      "image/png": "[encoded data removed]",
      "text/plain": [
       "<Figure size 432x288 with 1 Axes>"
      ]
     },
     "metadata": {
      "needs_background": "light"
     },
     "output_type": "display_data"
    }
   ],
   "source": [
    "fig = plt.figure()\n",
    "ax = fig.add_subplot(111)\n",
    "plt.plot(np.arange(1, len(scores)+1), scores)\n",
    "plt.plot(np.arange(1, len(avg_score_list)+1), avg_score_list)\n",
    "plt.ylabel('Score')\n",
    "plt.xlabel('Episode #')\n",
    "plt.show()"
   ]
  },
  {
   "cell_type": "code",
   "execution_count": 10,
   "metadata": {},
   "outputs": [],
   "source": [
    "env.close()"
   ]
  },
  {
   "cell_type": "markdown",
   "metadata": {},
   "source": [
    "### 5. Improvement suggestion\n",
    "\n",
    "I will consider implementing Prioritized Experience Replay using a special data structure Sum Tree as describe in [Prioritized Experience Replay (PER) implementation in PyTorch](https://github.com/rlcode/per) for similar game playing agent (such as soccer playing agents with more playing agents) and other more practical applications such as a trading agent in a much more complex environment. \n",
    "\n",
    "As recommended by OpenAI, Proximal Policy Optimization (PPO) performs comparably if not better than state-of-the-art approaches while being much simpler to implement and tune. Due to its ease of use and good performance, this algorithm may converge faster and shall be able to handle more complicated multi-agent in a more complex environment tasks. "
   ]
  },
  {
   "cell_type": "code",
   "execution_count": null,
   "metadata": {},
   "outputs": [],
   "source": []
  }
 ],
 "metadata": {
  "kernelspec": {
   "display_name": "Python 3",
   "language": "python",
   "name": "python3"
  },
  "language_info": {
   "codemirror_mode": {
    "name": "ipython",
    "version": 3
   },
   "file_extension": ".py",
   "mimetype": "text/x-python",
   "name": "python",
   "nbconvert_exporter": "python",
   "pygments_lexer": "ipython3",
   "version": "3.6.7"
  }
 },
 "nbformat": 4,
 "nbformat_minor": 2
}
